{
 "cells": [
  {
   "cell_type": "code",
   "execution_count": 11,
   "metadata": {},
   "outputs": [],
   "source": [
    "class Atm:\n",
    "    def __init__(self):\n",
    "        self.pin=\"\"\n",
    "        self.balance=0\n",
    "        \n",
    "        self.menu()\n",
    "        \n",
    "    def menu(self):\n",
    "        user_input=input(\"\"\"\n",
    "             enter the task you want to do:\n",
    "             1.Create pin\n",
    "             2.Deposit money\n",
    "             3.Withdraw money\n",
    "             4.Check balance            \n",
    "                         \"\"\")\n",
    "        \n",
    "        if user_input=='1':\n",
    "         print(\"create pin\")\n",
    "        elif user_input=='2':\n",
    "         print(\"enter the money you want to deposit\")\n",
    "        elif user_input=='3':\n",
    "         print('enter the money you want to withdraw')\n",
    "        else:\n",
    "         print('check the balance')\n",
    "         "
   ]
  },
  {
   "cell_type": "code",
   "execution_count": 12,
   "metadata": {},
   "outputs": [
    {
     "name": "stdout",
     "output_type": "stream",
     "text": [
      "enter the money you want to deposit\n"
     ]
    }
   ],
   "source": [
    "sbi=Atm()"
   ]
  },
  {
   "cell_type": "code",
   "execution_count": 23,
   "metadata": {},
   "outputs": [],
   "source": [
    "class Atm:\n",
    "    def __init__(self):\n",
    "        self.pin=\"\"\n",
    "        self.balance=0\n",
    "        \n",
    "        self.menu()\n",
    "        \n",
    "    def menu(self):\n",
    "        user_input=input(\"\"\"\n",
    "             enter the task you want to do:\n",
    "             1.Create pin\n",
    "             2.Deposit money\n",
    "             3.Withdraw money\n",
    "             4.Check balance            \n",
    "                         \"\"\")\n",
    "        \n",
    "\n",
    "            \n",
    "        \n",
    "        if user_input=='1':\n",
    "         print(\"create pin\")\n",
    "         self.create_pin()\n",
    "        elif user_input=='2':\n",
    "         self.deposit_of_money()\n",
    "        elif user_input=='3':\n",
    "         print('enter the money you want to withdraw')\n",
    "        else:\n",
    "         print('check the balance')\n",
    "         \n",
    "         \n",
    "    def create_pin(self):\n",
    "        self.pin=int(input(\"enter your pin\"))\n",
    "        print(\"pin set succesfully\")\n",
    "        \n",
    "    def deposit_of_money(self):\n",
    "        temp=input(\"enter pin\")\n",
    "        if temp==self.pin:\n",
    "         print(\"enter the money you want to deposit\")\n",
    "         self.balance+=int(input(\"enter the money you want to deposit\"))\n",
    "         print(\"money deposited\")\n",
    "        else:\n",
    "         print(\"wrong pin\")"
   ]
  },
  {
   "cell_type": "code",
   "execution_count": 25,
   "metadata": {},
   "outputs": [
    {
     "name": "stdout",
     "output_type": "stream",
     "text": [
      "enter the money you want to deposit\n",
      "wrong pin\n"
     ]
    }
   ],
   "source": [
    "sbi=Atm()"
   ]
  },
  {
   "cell_type": "code",
   "execution_count": 31,
   "metadata": {},
   "outputs": [],
   "source": [
    "class Atm:\n",
    "    def __init__(self):\n",
    "        self.pin = \"\"  # Keep pin as a string for consistency\n",
    "        self.balance = 0\n",
    "        \n",
    "        self.menu()\n",
    "\n",
    "    def menu(self):\n",
    "        user_input = input(\"\"\"\n",
    "             Enter the task you want to do:\n",
    "             1. Create pin\n",
    "             2. Deposit money\n",
    "             3. Withdraw money\n",
    "             4. Check balance            \n",
    "             \"\"\")\n",
    "        \n",
    "        if user_input == '1':\n",
    "            print(\"Create pin\")\n",
    "            self.create_pin()\n",
    "        elif user_input == '2':\n",
    "            self.deposit_of_money()\n",
    "        elif user_input == '3':\n",
    "            print('Enter the money you want to withdraw')\n",
    "            # You might want to add a method for withdrawal here\n",
    "        elif user_input == '4':  # Change to elif for proper flow\n",
    "            print('Check the balance')\n",
    "            self.check_balance()  # Optional: Add a check balance method\n",
    "        else:\n",
    "            print(\"Invalid option. Please select a valid task.\")\n",
    "\n",
    "    def create_pin(self):\n",
    "        self.pin = input(\"Enter your pin: \")  # Store as a string\n",
    "        print(\"Pin set successfully\")\n",
    "\n",
    "    def deposit_of_money(self):\n",
    "        temp = input(\"Enter pin: \")\n",
    "        if temp == self.pin:\n",
    "            amount = int(input(\"Enter the money you want to deposit: \"))\n",
    "            self.balance += amount\n",
    "            print(\"Money deposited\")\n",
    "        else:\n",
    "            print(\"Wrong pin\")\n",
    "\n",
    "    def check_balance(self):\n",
    "        temp = input(\"Enter pin: \")\n",
    "        if temp == self.pin:  # Optional method to check balance\n",
    "         print(f\"Your current balance is: {self.balance}\")\n",
    "        else:\n",
    "            print(\"Wrong pin\")"
   ]
  },
  {
   "cell_type": "code",
   "execution_count": 32,
   "metadata": {},
   "outputs": [
    {
     "name": "stdout",
     "output_type": "stream",
     "text": [
      "Create pin\n",
      "Pin set successfully\n"
     ]
    }
   ],
   "source": [
    "sbi=Atm()"
   ]
  },
  {
   "cell_type": "code",
   "execution_count": 34,
   "metadata": {},
   "outputs": [
    {
     "name": "stdout",
     "output_type": "stream",
     "text": [
      "Money deposited\n"
     ]
    }
   ],
   "source": [
    "sbi.deposit_of_money()"
   ]
  },
  {
   "cell_type": "code",
   "execution_count": 35,
   "metadata": {},
   "outputs": [
    {
     "name": "stdout",
     "output_type": "stream",
     "text": [
      "Your current balance is: 5000000\n"
     ]
    }
   ],
   "source": [
    "sbi.check_balance()"
   ]
  },
  {
   "cell_type": "markdown",
   "metadata": {},
   "source": [
    "## here we have put __(double underscore) before the data we have to hide from the user that is called encapsulation techinique those data are piun adn balance so that the user cant change them"
   ]
  },
  {
   "cell_type": "code",
   "execution_count": 43,
   "metadata": {},
   "outputs": [],
   "source": [
    "class Atm:\n",
    "    def __init__(self):\n",
    "        self.__pin = \"\"  # Keep pin as a string for consistency\n",
    "        self.__balance = 0\n",
    "        \n",
    "        self.menu()\n",
    "\n",
    "    def menu(self):\n",
    "        user_input = input(\"\"\"\n",
    "             Enter the task you want to do:\n",
    "             1. Create pin\n",
    "             2. Deposit money\n",
    "             3. Withdraw money\n",
    "             4. Check balance            \n",
    "             \"\"\")\n",
    "        \n",
    "        if user_input == '1':\n",
    "            print(\"Create pin\")\n",
    "            self.create_pin()\n",
    "        elif user_input == '2':\n",
    "            self.deposit_of_money()\n",
    "        elif user_input == '3':\n",
    "            self.withdraw_money()  # Call the method for withdrawal\n",
    "        elif user_input == '4':  \n",
    "            self.check_balance()  # Call the method for checking balance\n",
    "        else:\n",
    "            print(\"Invalid option. Please select a valid task.\")\n",
    "\n",
    "    def create_pin(self):\n",
    "        self.__pin = input(\"Enter your pin: \")  # Store as a string\n",
    "        print(\"Pin set successfully\")\n",
    "\n",
    "    def deposit_of_money(self):\n",
    "        temp = input(\"Enter pin: \")\n",
    "        if temp == self.__pin:\n",
    "            amount = int(input(\"Enter the money you want to deposit: \"))\n",
    "            self.__balance += amount\n",
    "            print(\"Money deposited\")\n",
    "        else:\n",
    "            print(\"Wrong pin\")\n",
    "\n",
    "    def withdraw_money(self):\n",
    "        temp = input(\"Enter pin: \")\n",
    "        if temp == self.__pin:\n",
    "            amount = int(input(\"Enter the amount to withdraw: \"))\n",
    "            if amount <= self.__balance:\n",
    "                self.__balance -= amount\n",
    "                print(\"Money withdrawn\")\n",
    "            else:\n",
    "                print(\"Insufficient balance\")\n",
    "        else:\n",
    "            print(\"Wrong pin\")\n",
    "\n",
    "    def check_balance(self):\n",
    "        temp = input(\"Enter pin: \")\n",
    "        if temp == self.__pin:  \n",
    "            print(f\"Your current balance is: {self.__balance}\")\n",
    "        else:\n",
    "            print(\"Wrong pin\")\n"
   ]
  },
  {
   "cell_type": "code",
   "execution_count": 44,
   "metadata": {},
   "outputs": [
    {
     "name": "stdout",
     "output_type": "stream",
     "text": [
      "Create pin\n",
      "Pin set successfully\n"
     ]
    }
   ],
   "source": [
    "sbi=Atm()"
   ]
  },
  {
   "cell_type": "code",
   "execution_count": 11,
   "metadata": {},
   "outputs": [],
   "source": [
    "class ATM:\n",
    "    def __init__(self):\n",
    "        self.__pin=\"\"\n",
    "        self.__balance=0\n",
    "        \n",
    "        self.choose_task()\n",
    "        \n",
    "    def choose_task(self):\n",
    "        user_input=input(\"\"\"enter the task you want to execute\n",
    "                          1. Create pin\n",
    "             2. Deposit money\n",
    "             3. Withdraw money\n",
    "             4. Check balance\n",
    "             5. Direct depostion of 1000 only\n",
    "             6. exit\n",
    "                         \"\"\")\n",
    "        \n",
    "        if user_input=='1':\n",
    "            self.create_pin()\n",
    "        elif user_input=='2':\n",
    "            self.deposit_money()\n",
    "        elif user_input==\"3\":\n",
    "         self.withdraw_money()\n",
    "        elif user_input=='4':\n",
    "            self.check_balance()\n",
    "        elif user_input=='5':\n",
    "            self.direct_deposit()\n",
    "        elif user_input=='6':\n",
    "            self.exit()\n",
    "        else:\n",
    "            print(\"invalid task try again\")\n",
    "            \n",
    "            \n",
    "    def create_pin(self):\n",
    "        self.__pin=input(\"enter your pin:\")\n",
    "        print('pin set succesfully')\n",
    "        \n",
    "    def deposit_money(self):\n",
    "        temp=input(\"enter your pin\")\n",
    "        if temp==self.__pin:\n",
    "         amount = int(input(\"enter the amount you want to deposit: \"))\n",
    "         self.__balance=self.__balance + amount\n",
    "         print('amount {self.__balance}  deposited seccessfully') \n",
    "        else:\n",
    "            print(\"invalid pin\")\n",
    "    \n",
    "    \n",
    "    def withdraw_money(self):\n",
    "        temp=input(\"enter your pin\")\n",
    "        if temp==self.__pin:\n",
    "            amount2 = int(input(\"enter the amount you want to withdraw: \"))\n",
    "            if amount2<=self.__balance:\n",
    "             self.__balance=self.__balance-amount2\n",
    "             print('{self.__balance} is the amount after deduction')\n",
    "            else:\n",
    "                print(\"insufficient balance\")\n",
    "        else:\n",
    "            print(\"invalid pin\")\n",
    "            \n",
    "            \n",
    "    def check_balance(self):\n",
    "        temp=input(\"enter your pin\")\n",
    "        if temp==self.__pin:\n",
    "            print(f'your balance is {self.__balance}')\n",
    "        else:\n",
    "            print(\"invlid pin please try again\")   \n",
    "            \n",
    "            \n",
    "    def direct_deposit(self):\n",
    "        temp=input(\"enter your pin\")\n",
    "        if temp==self.__pin:\n",
    "            self.__balance+=100\n",
    "            print(\"Balance modified by adding 1000\")\n",
    "            print(f\"New balance inside method: {self.__balance.__balance}\")\n",
    "        else:\n",
    "            print('invalid pin')\n",
    "            \n",
    "            \n",
    "    def exit(self):\n",
    "        print(\"bye\")      \n",
    "            "
   ]
  },
  {
   "cell_type": "code",
   "execution_count": 12,
   "metadata": {},
   "outputs": [
    {
     "name": "stdout",
     "output_type": "stream",
     "text": [
      "pin set succesfully\n"
     ]
    }
   ],
   "source": [
    "hdfc=ATM()"
   ]
  },
  {
   "cell_type": "markdown",
   "metadata": {},
   "source": [
    "## inherigtence techniques in python"
   ]
  },
  {
   "cell_type": "code",
   "execution_count": 19,
   "metadata": {},
   "outputs": [],
   "source": [
    "class Atm:\n",
    "    def __init__(self):\n",
    "        self.__pin = \"\"  # Keep pin as a string for consistency\n",
    "        self.__balance = 0\n",
    "        \n",
    "        self.menu()\n",
    "\n",
    "    def menu(self):\n",
    "        user_input = input(\"\"\"\n",
    "             Enter the task you want to do:\n",
    "             1. Create pin\n",
    "             2. Deposit money\n",
    "             3. Withdraw money\n",
    "             4. Check balance            \n",
    "             \"\"\")\n",
    "        \n",
    "        if user_input == '1':\n",
    "            print(\"Create pin\")\n",
    "            self.create_pin()\n",
    "        elif user_input == '2':\n",
    "            self.deposit_of_money()\n",
    "        elif user_input == '3':\n",
    "            self.withdraw_money()  # Call the method for withdrawal\n",
    "        elif user_input == '4':  \n",
    "            self.check_balance()  # Call the method for checking balance\n",
    "        else:\n",
    "            print(\"Invalid option. Please select a valid task.\")\n",
    "\n",
    "    def create_pin(self):\n",
    "        self.__pin = input(\"Enter your pin: \")  # Store as a string\n",
    "        print(\"Pin set successfully\")\n",
    "\n",
    "    def deposit_of_money(self):\n",
    "        temp = input(\"Enter pin: \")\n",
    "        if temp == self.__pin:\n",
    "            amount = int(input(\"Enter the money you want to deposit: \"))\n",
    "            self.__balance += amount\n",
    "            print(\"Money deposited\")\n",
    "        else:\n",
    "            print(\"Wrong pin\")\n",
    "\n",
    "    def withdraw_money(self):\n",
    "        temp = input(\"Enter pin: \")\n",
    "        if temp == self.__pin:\n",
    "            amount = int(input(\"Enter the amount to withdraw: \"))\n",
    "            if amount <= self.__balance:\n",
    "                self.__balance -= amount\n",
    "                print(\"Money withdrawn\")\n",
    "            else:\n",
    "                print(\"Insufficient balance\")\n",
    "        else:\n",
    "            print(\"Wrong pin\")\n",
    "\n",
    "    def check_balance(self):\n",
    "        temp = input(\"Enter pin: \")\n",
    "        if temp == self.__pin:  \n",
    "            print(f\"Your current balance is: {self.__balance}\")\n",
    "        else:\n",
    "            print(\"Wrong pin\")\n",
    "\n",
    "\n",
    "class SBI(Atm):\n",
    "    def special_feature(self):\n",
    "        print(\"welcome to SBI\")\n",
    "        \n",
    "class HDFC(SBI):\n",
    "    def special_feature(self):\n",
    "        print(\"welcome to HDFC\")"
   ]
  },
  {
   "cell_type": "code",
   "execution_count": 22,
   "metadata": {},
   "outputs": [
    {
     "name": "stdout",
     "output_type": "stream",
     "text": [
      "Invalid option. Please select a valid task.\n",
      "Create pin\n",
      "Pin set successfully\n"
     ]
    }
   ],
   "source": [
    "sbi=SBI()\n",
    "hdfc=HDFC()"
   ]
  },
  {
   "cell_type": "code",
   "execution_count": 23,
   "metadata": {},
   "outputs": [
    {
     "name": "stdout",
     "output_type": "stream",
     "text": [
      "welcome to HDFC\n"
     ]
    }
   ],
   "source": [
    "hdfc.special_feature()"
   ]
  },
  {
   "cell_type": "code",
   "execution_count": null,
   "metadata": {},
   "outputs": [],
   "source": []
  }
 ],
 "metadata": {
  "kernelspec": {
   "display_name": "Python 3",
   "language": "python",
   "name": "python3"
  },
  "language_info": {
   "codemirror_mode": {
    "name": "ipython",
    "version": 3
   },
   "file_extension": ".py",
   "mimetype": "text/x-python",
   "name": "python",
   "nbconvert_exporter": "python",
   "pygments_lexer": "ipython3",
   "version": "3.11.5"
  }
 },
 "nbformat": 4,
 "nbformat_minor": 2
}
